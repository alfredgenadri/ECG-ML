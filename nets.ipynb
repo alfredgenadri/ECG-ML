{
 "cells": [
  {
   "cell_type": "code",
   "execution_count": null,
   "metadata": {},
   "outputs": [],
   "source": [
    "# 1D Conv layers since input and output shapes are 2D"
   ]
  },
  {
   "cell_type": "code",
   "execution_count": 97,
   "metadata": {},
   "outputs": [],
   "source": [
    "import pandas as pd\n",
    "import numpy as np\n",
    "import matplotlib.pyplot as plt\n",
    "\n",
    "import torch\n",
    "from torch.autograd import Variable\n",
    "from torch.nn import Linear, ReLU, Sequential, Conv1d, MaxPool1d, Module, Softmax, BatchNorm1d, Dropout, BCEWithLogitsLoss\n",
    "from torch.optim import SGD, Adam"
   ]
  },
  {
   "cell_type": "code",
   "execution_count": 5,
   "metadata": {},
   "outputs": [
    {
     "name": "stderr",
     "output_type": "stream",
     "text": [
      "100%|██████████| 21388/21388 [00:28<00:00, 741.61it/s]\n"
     ]
    }
   ],
   "source": [
    "from PTBXLDataLoader import PTBXLDataLoader\n",
    "\n",
    "loader = PTBXLDataLoader()\n",
    "train_inputs, train_labels, val_inputs, val_labels, test_inputs, test_labels, classes = loader.load_data()"
   ]
  },
  {
   "cell_type": "code",
   "execution_count": 88,
   "metadata": {},
   "outputs": [],
   "source": [
    "x_train = torch.from_numpy(train_inputs.astype('float32'))\n",
    "y_train = torch.from_numpy(train_labels.to_numpy().astype('float32'))\n",
    "x_val = torch.from_numpy(val_inputs.astype('float32'))\n",
    "y_val = torch.from_numpy(val_labels.to_numpy().astype('float32'))\n",
    "x_test = torch.from_numpy(test_inputs.astype('float32'))\n",
    "y_test = torch.from_numpy(test_labels.to_numpy().astype('float32'))\n",
    "\n",
    "\n",
    "def standardize(x):\n",
    "    x -= x.mean(0, keepdim=True)\n",
    "    x /= x.std(0, unbiased=False, keepdim=True)\n",
    "    return x\n",
    "\n",
    "x_train = standardize(x_train)\n",
    "x_test = standardize(x_test)\n",
    "x_val = standardize(x_val)\n",
    "\n",
    "num_classes = len(classes)"
   ]
  },
  {
   "cell_type": "code",
   "execution_count": 107,
   "metadata": {},
   "outputs": [],
   "source": [
    "class NeuralNet(Module):\n",
    "\n",
    "    def __init__(self):\n",
    "        super(NeuralNet, self).__init__()\n",
    "\n",
    "        self.cnn = Sequential(\n",
    "            Conv1d(1000, 64, kernel_size=2, stride=1, padding=1),\n",
    "            BatchNorm1d(64),\n",
    "            ReLU(inplace=True),\n",
    "            MaxPool1d(kernel_size=2, stride=2),\n",
    "            Dropout(0.1),\n",
    "            Conv1d(64, 128, kernel_size=2, stride=2, padding=1),\n",
    "            BatchNorm1d(128),\n",
    "            ReLU(inplace=True),\n",
    "            MaxPool1d(kernel_size=2, stride=2),\n",
    "            Dropout(0.1),\n",
    "            Conv1d(128, 256, kernel_size=2, stride=1, padding=1),\n",
    "            BatchNorm1d(256),\n",
    "            ReLU(inplace=True),\n",
    "            MaxPool1d(kernel_size=2, stride=2),\n",
    "            Dropout(0.1),\n",
    "            Conv1d(256, 256, kernel_size=2, stride=1, padding=1),\n",
    "            BatchNorm1d(256),\n",
    "            ReLU(inplace=True),\n",
    "            MaxPool1d(kernel_size=2, stride=2),\n",
    "            Dropout(0.1),\n",
    "        )\n",
    "\n",
    "        self.linear = Sequential(\n",
    "            Linear(256, 128),\n",
    "            ReLU(inplace=True),\n",
    "            Dropout(0.1),\n",
    "            Linear(128, num_classes)\n",
    "        )\n",
    "    \n",
    "    def forward(self, x):\n",
    "        x = self.cnn(x)\n",
    "        x = x.view(x.size(0), -1)\n",
    "        x = self.linear(x)\n",
    "        return x"
   ]
  },
  {
   "cell_type": "code",
   "execution_count": 103,
   "metadata": {},
   "outputs": [],
   "source": [
    "model = NeuralNet()\n",
    "\n",
    "# hyperparams\n",
    "num_epochs = 30\n",
    "learning_rate = 0.05\n",
    "momentum = 0.9\n",
    "optimizer = SGD(model.parameters(), lr=learning_rate, momentum=momentum)\n",
    "#optimizer = Adam(model.parameters(), lr=learning_rate)\n",
    "loss = BCEWithLogitsLoss()\n"
   ]
  },
  {
   "cell_type": "code",
   "execution_count": 108,
   "metadata": {},
   "outputs": [
    {
     "name": "stdout",
     "output_type": "stream",
     "text": [
      "Epoch :  1 \t loss : tensor(0.5230, grad_fn=<BinaryCrossEntropyWithLogitsBackward0>)\n",
      "Epoch :  10 \t loss : tensor(0.5192, grad_fn=<BinaryCrossEntropyWithLogitsBackward0>)\n",
      "Epoch :  20 \t loss : tensor(0.5126, grad_fn=<BinaryCrossEntropyWithLogitsBackward0>)\n",
      "Epoch :  30 \t loss : tensor(0.5125, grad_fn=<BinaryCrossEntropyWithLogitsBackward0>)\n"
     ]
    }
   ],
   "source": [
    "\n",
    "train_losses = []\n",
    "val_losses = []\n",
    "\n",
    "def train(x_train, x_val, y_train, y_val, epoch):\n",
    "    \n",
    "    model.train()\n",
    "\n",
    "    tr_loss = 0\n",
    "\n",
    "    x_train, y_train = Variable(x_train), Variable(y_train)\n",
    "    x_val, y_val = Variable(x_val), Variable(y_val)\n",
    "\n",
    "    # clearing the Gradients of the model parameters\n",
    "    optimizer.zero_grad()\n",
    "    \n",
    "    # prediction for training and validation set\n",
    "    output_train = model(x_train)\n",
    "    output_val = model(x_val)\n",
    "\n",
    "    # computing the training and validation loss\n",
    "    loss_train = loss(output_train, y_train)\n",
    "    loss_val = loss(output_val, y_val)\n",
    "\n",
    "    train_losses.append(loss_train)\n",
    "    val_losses.append(loss_val)\n",
    "\n",
    "    # computing the updated weights of all the model parameters\n",
    "    loss_train.backward()\n",
    "    optimizer.step()\n",
    "\n",
    "    tr_loss = loss_train.item()\n",
    "\n",
    "    if (epoch + 1) % 10 == 0 or not epoch:\n",
    "        # printing the validation loss\n",
    "        print('Epoch : ', epoch + 1, '\\t', 'loss :', loss_val)\n",
    "\n",
    "\n",
    "for epoch in range(num_epochs):\n",
    "    train(x_train, x_val, y_train, y_val, epoch)"
   ]
  },
  {
   "cell_type": "code",
   "execution_count": 109,
   "metadata": {},
   "outputs": [
    {
     "data": {
      "image/png": "[encoded data removed]",
      "text/plain": [
       "<Figure size 432x288 with 1 Axes>"
      ]
     },
     "metadata": {
      "needs_background": "dark"
     },
     "output_type": "display_data"
    }
   ],
   "source": [
    "train_loss = [t.item() for t in train_losses]\n",
    "val_loss = [t.item() for t in val_losses]\n",
    "\n",
    "plt.plot(range(num_epochs), train_loss, label='Training Loss')\n",
    "plt.plot(range(num_epochs), val_loss, label='Validation Loss')\n",
    "plt.tick_params(colors='white')\n",
    "plt.legend()\n",
    "plt.show()"
   ]
  },
  {
   "cell_type": "code",
   "execution_count": 110,
   "metadata": {},
   "outputs": [
    {
     "name": "stdout",
     "output_type": "stream",
     "text": [
      "tensor(75.4495)\n"
     ]
    }
   ],
   "source": [
    "with torch.no_grad():\n",
    "    output = model(x_test)\n",
    "\n",
    "threshold = 0.5\n",
    "predictions = torch.sigmoid(output)\n",
    "preds = (predictions > threshold).type(torch.uint8)\n",
    "accuracy = (preds == y_test).sum() / (preds.shape[0] * preds.shape[1]) * 100\n",
    "print(accuracy)\n"
   ]
  }
 ],
 "metadata": {
  "kernelspec": {
   "display_name": "Python 3",
   "language": "python",
   "name": "python3"
  },
  "language_info": {
   "codemirror_mode": {
    "name": "ipython",
    "version": 3
   },
   "file_extension": ".py",
   "mimetype": "text/x-python",
   "name": "python",
   "nbconvert_exporter": "python",
   "pygments_lexer": "ipython3",
   "version": "3.9.16"
  },
  "orig_nbformat": 4,
  "vscode": {
   "interpreter": {
    "hash": "a665b5d41d17b532ea9890333293a1b812fa0b73c9c25c950b3cedf1bebd0438"
   }
  }
 },
 "nbformat": 4,
 "nbformat_minor": 2
}
